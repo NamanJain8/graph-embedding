{
 "cells": [
  {
   "cell_type": "code",
   "execution_count": 2,
   "metadata": {},
   "outputs": [],
   "source": [
    "import numpy as np\n",
    "import scipy.sparse as sp\n",
    "import tensorflow as tf"
   ]
  },
  {
   "cell_type": "code",
   "execution_count": 3,
   "metadata": {},
   "outputs": [],
   "source": [
    "path=\"./data/cora/\"\n",
    "dataset=\"cora\""
   ]
  },
  {
   "cell_type": "code",
   "execution_count": 4,
   "metadata": {},
   "outputs": [],
   "source": [
    "def encode_onehot(labels):\n",
    "    classes = set(labels)\n",
    "    classes_dict = {c: np.identity(len(classes))[i, :] for i, c in\n",
    "                    enumerate(classes)}\n",
    "    labels_onehot = np.array(list(map(classes_dict.get, labels)),\n",
    "                             dtype=np.int32)\n",
    "    return labels_onehot"
   ]
  },
  {
   "cell_type": "code",
   "execution_count": 5,
   "metadata": {},
   "outputs": [],
   "source": [
    "idx_features_labels = np.genfromtxt(\"{}{}.content\".format(path, dataset),\n",
    "                                    dtype=np.dtype(str))\n",
    "labels = encode_onehot(idx_features_labels[:, -1])"
   ]
  },
  {
   "cell_type": "code",
   "execution_count": 6,
   "metadata": {},
   "outputs": [],
   "source": [
    "idx = np.array(idx_features_labels[:, 0], dtype=np.int32)\n",
    "idx_map = {j: i for i, j in enumerate(idx)}"
   ]
  },
  {
   "cell_type": "code",
   "execution_count": 7,
   "metadata": {},
   "outputs": [],
   "source": [
    "edges_unordered = np.genfromtxt(\"{}{}.cites\".format(path, dataset),\n",
    "                                    dtype=np.int32)\n",
    "edges = np.array(list(map(idx_map.get, edges_unordered.flatten())),\n",
    "                     dtype=np.int32).reshape(edges_unordered.shape)\n",
    "edges_transpose = np.transpose(edges)"
   ]
  },
  {
   "cell_type": "code",
   "execution_count": 8,
   "metadata": {},
   "outputs": [],
   "source": [
    "A = np.zeros(shape=(idx.shape[0],idx.shape[0]))\n",
    "for e in edges:\n",
    "    A[e[0]][e[1]]=1\n",
    "X = idx_features_labels[:, 1:-1]\n",
    "Y=labels"
   ]
  },
  {
   "cell_type": "code",
   "execution_count": 9,
   "metadata": {},
   "outputs": [],
   "source": [
    "D=np.eye(idx.shape[0])\n",
    "I=np.eye(idx.shape[0])\n",
    "for e in edges:\n",
    "    D[e[0]][e[0]]=np.sum(edges_transpose[0] == e[0])\n",
    "AI = A + I\n",
    "D_inv = np.linalg.inv(D)\n",
    "D_half = np.dot(D**0.5,D_inv)\n",
    "A_t = np.dot(np.dot(D_half,AI),D_half)"
   ]
  },
  {
   "cell_type": "code",
   "execution_count": 10,
   "metadata": {},
   "outputs": [],
   "source": [
    "# Deg[i] means the no of edges terminating on that vertex ie np.sum(edges_transpose[0]==i)\n",
    "# D is diag(Deg[i]) $\\forall$ i\n",
    "#AI = A + I .. defining that a node i is connected to itself"
   ]
  },
  {
   "cell_type": "code",
   "execution_count": 11,
   "metadata": {},
   "outputs": [],
   "source": [
    "# X is N X D , Y is N X K , A_t is A X N .. good to go, we need degree matrix Deg"
   ]
  },
  {
   "cell_type": "code",
   "execution_count": 12,
   "metadata": {},
   "outputs": [
    {
     "name": "stdout",
     "output_type": "stream",
     "text": [
      "(2708, 2708) (2708, 1433)\n"
     ]
    }
   ],
   "source": [
    "print A_t.shape , X.shape"
   ]
  },
  {
   "cell_type": "code",
   "execution_count": 13,
   "metadata": {},
   "outputs": [],
   "source": [
    "F = 50 # the dimensions of latent variable\n",
    "H = 500 # the dimension for Hidden unit\n",
    "D = X.shape[1]\n",
    "# W0 would be D X H, W1 would be H X F"
   ]
  },
  {
   "cell_type": "code",
   "execution_count": 14,
   "metadata": {},
   "outputs": [],
   "source": [
    "w0 = tf.Variable(tf.random_uniform([D, H]),trainable=True)\n",
    "w1 = tf.Variable(tf.random_uniform([H, F]),trainable=True)\n",
    "A_t_tf = tf.convert_to_tensor(A_t, dtype=tf.float32)\n",
    "X_tf = tf.convert_to_tensor(X,dtype=tf.float32)"
   ]
  },
  {
   "cell_type": "code",
   "execution_count": 15,
   "metadata": {},
   "outputs": [],
   "source": [
    "# First layer :\n",
    "z1 = tf.matmul(tf.matmul(A_t_tf,X_tf),w0) \n",
    "a1 = tf.nn.relu(z1)"
   ]
  },
  {
   "cell_type": "code",
   "execution_count": 16,
   "metadata": {},
   "outputs": [],
   "source": [
    "#Second Layer :\n",
    "z2 = tf.matmul(tf.matmul(A_t_tf,a1),w1)\n",
    "a2 = tf.nn.softmax(z2)\n",
    "\n",
    "#Final assignent to Z, it has to be N X F\n",
    "Z = a2"
   ]
  },
  {
   "cell_type": "code",
   "execution_count": 24,
   "metadata": {},
   "outputs": [],
   "source": [
    "#defining the loss function : \n",
    "mat = tf.matmul(Z,tf.transpose(Z))\n",
    "mat_flat=tf.reshape(mat, [-1])\n",
    "A_t_tf_flat = tf.reshape(A_t_tf,[-1])\n",
    "loss = tf.reduce_sum(tf.nn.sigmoid_cross_entropy_with_logits(labels=A_t_tf_flat,logits=mat_flat))"
   ]
  },
  {
   "cell_type": "code",
   "execution_count": 25,
   "metadata": {},
   "outputs": [],
   "source": [
    "opt = tf.train.AdamOptimizer(0.00001).minimize(loss)"
   ]
  },
  {
   "cell_type": "code",
   "execution_count": 26,
   "metadata": {},
   "outputs": [
    {
     "name": "stdout",
     "output_type": "stream",
     "text": [
      "[9573397.0]\n",
      "[9572818.0]\n",
      "[9572242.0]\n",
      "[9571666.0]\n",
      "[9571090.0]\n",
      "[9570513.0]\n",
      "[9569941.0]\n",
      "[9569371.0]\n",
      "[9568797.0]\n",
      "[9568225.0]\n",
      "[9567653.0]\n",
      "[9567080.0]\n",
      "[9566506.0]\n",
      "[9565933.0]\n",
      "[9565358.0]\n",
      "[9564779.0]\n",
      "[9564199.0]\n",
      "[9563614.0]\n",
      "[9563028.0]\n",
      "[9562432.0]\n"
     ]
    }
   ],
   "source": [
    "with tf.Session() as sess:\n",
    "    sess.run(tf.global_variables_initializer())\n",
    "    for i in range(20):\n",
    "        print(sess.run([loss]))\n",
    "        sess.run(opt)"
   ]
  },
  {
   "cell_type": "code",
   "execution_count": 43,
   "metadata": {},
   "outputs": [],
   "source": [
    "# x = tf.Variable(10.0, trainable=True)\n",
    "# y = tf.Variable(10.0, trainable=True)\n",
    "\n",
    "\n",
    "# fx = tf.nn.l2_loss(tf.exp(x)+tf.multiply(x,y)-20)\n",
    "# loss = fx\n",
    "# opt = tf.train.GradientDescentOptimizer(0.000002).minimize(fx)\n",
    "\n",
    "# with tf.Session() as sess:\n",
    "#     sess.run(tf.global_variables_initializer())\n",
    "#     for i in range(200):\n",
    "#         print(sess.run([x,y,loss]))\n",
    "#         sess.run(opt)"
   ]
  },
  {
   "cell_type": "code",
   "execution_count": null,
   "metadata": {},
   "outputs": [],
   "source": []
  },
  {
   "cell_type": "code",
   "execution_count": null,
   "metadata": {},
   "outputs": [],
   "source": []
  },
  {
   "cell_type": "code",
   "execution_count": null,
   "metadata": {},
   "outputs": [],
   "source": []
  }
 ],
 "metadata": {
  "kernelspec": {
   "display_name": "Python 2",
   "language": "python",
   "name": "python2"
  },
  "language_info": {
   "codemirror_mode": {
    "name": "ipython",
    "version": 2
   },
   "file_extension": ".py",
   "mimetype": "text/x-python",
   "name": "python",
   "nbconvert_exporter": "python",
   "pygments_lexer": "ipython2",
   "version": "2.7.12"
  }
 },
 "nbformat": 4,
 "nbformat_minor": 2
}
