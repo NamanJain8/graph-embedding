{
 "cells": [
  {
   "cell_type": "code",
   "execution_count": 1,
   "metadata": {},
   "outputs": [
    {
     "name": "stderr",
     "output_type": "stream",
     "text": [
      "/usr/local/lib/python2.7/dist-packages/h5py/__init__.py:36: FutureWarning: Conversion of the second argument of issubdtype from `float` to `np.floating` is deprecated. In future, it will be treated as `np.float64 == np.dtype(float).type`.\n",
      "  from ._conv import register_converters as _register_converters\n"
     ]
    }
   ],
   "source": [
    "import numpy as np\n",
    "import scipy.sparse as sp\n",
    "import tensorflow as tf"
   ]
  },
  {
   "cell_type": "code",
   "execution_count": 2,
   "metadata": {},
   "outputs": [],
   "source": [
    "path=\"./data/cora/\"\n",
    "dataset=\"cora\""
   ]
  },
  {
   "cell_type": "code",
   "execution_count": 3,
   "metadata": {},
   "outputs": [],
   "source": [
    "def encode_onehot(labels):\n",
    "    classes = set(labels)\n",
    "    classes_dict = {c: np.identity(len(classes))[i, :] for i, c in\n",
    "                    enumerate(classes)}\n",
    "    labels_onehot = np.array(list(map(classes_dict.get, labels)),\n",
    "                             dtype=np.int32)\n",
    "    return labels_onehot"
   ]
  },
  {
   "cell_type": "code",
   "execution_count": 4,
   "metadata": {},
   "outputs": [],
   "source": [
    "idx_features_labels = np.genfromtxt(\"{}{}.content\".format(path, dataset),\n",
    "                                    dtype=np.dtype(str))\n",
    "labels = encode_onehot(idx_features_labels[:, -1])"
   ]
  },
  {
   "cell_type": "code",
   "execution_count": 5,
   "metadata": {},
   "outputs": [],
   "source": [
    "idx = np.array(idx_features_labels[:, 0], dtype=np.int32)\n",
    "idx_map = {j: i for i, j in enumerate(idx)}"
   ]
  },
  {
   "cell_type": "code",
   "execution_count": 6,
   "metadata": {},
   "outputs": [],
   "source": [
    "edges_unordered = np.genfromtxt(\"{}{}.cites\".format(path, dataset),\n",
    "                                    dtype=np.int32)\n",
    "edges = np.array(list(map(idx_map.get, edges_unordered.flatten())),\n",
    "                     dtype=np.int32).reshape(edges_unordered.shape)\n",
    "edges_transpose = np.transpose(edges)"
   ]
  },
  {
   "cell_type": "code",
   "execution_count": 7,
   "metadata": {},
   "outputs": [],
   "source": [
    "A = np.zeros(shape=(idx.shape[0],idx.shape[0]))\n",
    "for e in edges:\n",
    "    A[e[0]][e[1]]=1\n",
    "X = idx_features_labels[:, 1:-1]\n",
    "Y=labels"
   ]
  },
  {
   "cell_type": "code",
   "execution_count": 8,
   "metadata": {},
   "outputs": [],
   "source": [
    "D=np.eye(idx.shape[0])\n",
    "I=np.eye(idx.shape[0])\n",
    "for e in edges:\n",
    "    D[e[0]][e[0]]=np.sum(edges_transpose[0] == e[0])\n",
    "AI = A + I\n",
    "D_inv = np.linalg.inv(D)\n",
    "D_half = np.dot(D**0.5,D_inv)\n",
    "A_t = np.dot(np.dot(D_half,AI),D_half)"
   ]
  },
  {
   "cell_type": "code",
   "execution_count": 9,
   "metadata": {},
   "outputs": [],
   "source": [
    "# Deg[i] means the no of edges terminating on that vertex ie np.sum(edges_transpose[0]==i)\n",
    "# D is diag(Deg[i]) $\\forall$ i\n",
    "#AI = A + I .. defining that a node i is connected to itself"
   ]
  },
  {
   "cell_type": "code",
   "execution_count": 10,
   "metadata": {},
   "outputs": [],
   "source": [
    "# X is N X D , Y is N X K , A_t is A X N .. good to go, we need degree matrix Deg"
   ]
  },
  {
   "cell_type": "code",
   "execution_count": 11,
   "metadata": {},
   "outputs": [
    {
     "name": "stdout",
     "output_type": "stream",
     "text": [
      "(2708, 2708) (2708, 1433)\n"
     ]
    }
   ],
   "source": [
    "print A_t.shape , X.shape"
   ]
  },
  {
   "cell_type": "code",
   "execution_count": 12,
   "metadata": {},
   "outputs": [],
   "source": [
    "F = 7 # the dimensions of latent variable\n",
    "H = 32 # the dimension for Hidden unit\n",
    "D = X.shape[1]\n",
    "# W0 would be D X H, W1 would be H X F"
   ]
  },
  {
   "cell_type": "code",
   "execution_count": 13,
   "metadata": {},
   "outputs": [],
   "source": [
    "w0 = tf.Variable(tf.random_uniform([D, H]),trainable=True)\n",
    "w1 = tf.Variable(tf.random_uniform([H, F]),trainable=True)\n",
    "\n",
    "A_t_tf = tf.convert_to_tensor(A_t, dtype=tf.float32)\n",
    "labels_tf = tf.convert_to_tensor(labels, dtype=tf.float32)\n",
    "AI_tf = tf.convert_to_tensor(AI, dtype=tf.float32)\n",
    "X_tf = tf.convert_to_tensor(X,dtype=tf.float32)"
   ]
  },
  {
   "cell_type": "code",
   "execution_count": 14,
   "metadata": {},
   "outputs": [],
   "source": [
    "# First layer :\n",
    "z1 = tf.matmul(tf.matmul(A_t_tf,X_tf),w0) \n",
    "a1 = tf.nn.relu(z1)"
   ]
  },
  {
   "cell_type": "code",
   "execution_count": 15,
   "metadata": {},
   "outputs": [],
   "source": [
    "#Second Layer :\n",
    "z2 = tf.matmul(tf.matmul(A_t_tf,a1),w1)\n",
    "a2 = tf.nn.softmax(z2)\n",
    "\n",
    "\n",
    "#Final assignent to Z, it has to be N X F\n",
    "Z = a2"
   ]
  },
  {
   "cell_type": "code",
   "execution_count": 16,
   "metadata": {},
   "outputs": [],
   "source": [
    "lnZ = tf.log(Z+0.000001)\n",
    "lnZf=tf.reshape(lnZ,[-1])\n",
    "labelsf=tf.reshape(labels,[-1])\n",
    "labelsf = tf.cast(labelsf,tf.float32)\n",
    "lnZf = tf.cast(lnZf,tf.float32)\n",
    "loss = -tf.tensordot(labelsf, lnZf,1)"
   ]
  },
  {
   "cell_type": "code",
   "execution_count": 17,
   "metadata": {},
   "outputs": [],
   "source": [
    "opt = tf.train.AdamOptimizer(0.01).minimize(loss)"
   ]
  },
  {
   "cell_type": "code",
   "execution_count": 18,
   "metadata": {},
   "outputs": [
    {
     "name": "stdout",
     "output_type": "stream",
     "text": [
      "(0, 23544.213)\n",
      "(1, 21941.018)\n",
      "(2, 20515.045)\n",
      "(3, 14147.339)\n",
      "(4, 16242.314)\n",
      "(5, 16512.807)\n",
      "(6, 13599.493)\n",
      "(7, 10936.191)\n",
      "(8, 10576.314)\n",
      "(9, 11971.71)\n",
      "(10, 8824.292)\n",
      "(11, 7213.5493)\n",
      "(12, 7252.3413)\n",
      "(13, 7494.5376)\n",
      "(14, 7392.6294)\n",
      "(15, 7096.497)\n",
      "(16, 6280.9595)\n",
      "(17, 5087.1143)\n",
      "(18, 4368.6123)\n",
      "(19, 4531.8457)\n",
      "(20, 4783.696)\n",
      "(21, 4544.169)\n",
      "(22, 4007.4885)\n",
      "(23, 3356.8628)\n",
      "(24, 2679.0994)\n",
      "(25, 2183.6301)\n",
      "(26, 1984.7971)\n",
      "(27, 2061.8635)\n",
      "(28, 2315.9766)\n",
      "(29, 2341.6516)\n",
      "(30, 1996.4263)\n",
      "(31, 1661.1329)\n",
      "(32, 1484.6058)\n",
      "(33, 1427.2498)\n",
      "(34, 1433.724)\n",
      "(35, 1443.3417)\n",
      "(36, 1415.364)\n",
      "(37, 1340.6346)\n",
      "(38, 1244.6692)\n",
      "(39, 1165.4774)\n",
      "(40, 1113.3202)\n",
      "(41, 1077.0139)\n",
      "(42, 1038.3207)\n",
      "(43, 993.75305)\n",
      "(44, 952.18634)\n",
      "(45, 919.94507)\n",
      "(46, 895.30493)\n",
      "(47, 872.8122)\n",
      "(48, 851.2612)\n",
      "(49, 830.0018)\n",
      "(50, 805.80566)\n",
      "(51, 776.7281)\n",
      "(52, 744.08716)\n",
      "(53, 712.1535)\n",
      "(54, 685.3738)\n",
      "(55, 665.29315)\n",
      "(56, 650.8974)\n",
      "(57, 639.98145)\n",
      "(58, 629.7059)\n",
      "(59, 617.1365)\n",
      "(60, 600.72314)\n",
      "(61, 581.46515)\n",
      "(62, 562.20184)\n",
      "(63, 545.9562)\n",
      "(64, 534.5981)\n",
      "(65, 527.5952)\n",
      "(66, 522.64453)\n",
      "(67, 516.9607)\n",
      "(68, 508.62814)\n",
      "(69, 497.62787)\n",
      "(70, 485.7568)\n",
      "(71, 475.29138)\n",
      "(72, 467.32202)\n",
      "(73, 461.26373)\n",
      "(74, 455.8026)\n",
      "(75, 449.98602)\n",
      "(76, 443.6524)\n",
      "(77, 437.21307)\n",
      "(78, 431.1466)\n",
      "(79, 425.6118)\n",
      "(80, 420.44592)\n",
      "(81, 415.42157)\n",
      "(82, 410.47427)\n",
      "(83, 405.73196)\n",
      "(84, 401.3783)\n",
      "(85, 397.4411)\n",
      "(86, 393.71527)\n",
      "(87, 389.9348)\n",
      "(88, 386.01797)\n",
      "(89, 382.10364)\n",
      "(90, 378.38397)\n",
      "(91, 374.93475)\n",
      "(92, 371.72314)\n",
      "(93, 368.6853)\n",
      "(94, 365.76117)\n",
      "(95, 362.88785)\n",
      "(96, 360.02155)\n",
      "(97, 357.16953)\n",
      "(98, 354.37668)\n",
      "(99, 351.68076)\n",
      "(100, 349.09744)\n",
      "(101, 346.63095)\n",
      "(102, 344.26843)\n",
      "(103, 341.9681)\n",
      "(104, 339.67627)\n",
      "(105, 337.37283)\n",
      "(106, 335.08875)\n",
      "(107, 332.8718)\n",
      "(108, 330.74252)\n",
      "(109, 328.68686)\n",
      "(110, 326.6789)\n",
      "(111, 324.70023)\n",
      "(112, 322.74396)\n",
      "(113, 320.8146)\n",
      "(114, 318.92618)\n",
      "(115, 317.08667)\n",
      "(116, 315.29044)\n",
      "(117, 313.52618)\n",
      "(118, 311.7888)\n",
      "(119, 310.08252)\n",
      "(120, 308.41293)\n",
      "(121, 306.7792)\n",
      "(122, 305.173)\n",
      "(123, 303.5907)\n",
      "(124, 302.0318)\n",
      "(125, 300.4991)\n",
      "(126, 298.99402)\n",
      "(127, 297.51965)\n",
      "(128, 296.0738)\n",
      "(129, 294.65103)\n",
      "(130, 293.2489)\n",
      "(131, 291.86517)\n",
      "(132, 290.50223)\n",
      "(133, 289.16315)\n",
      "(134, 287.84653)\n",
      "(135, 286.55212)\n",
      "(136, 285.27795)\n",
      "(137, 284.02283)\n",
      "(138, 282.7834)\n",
      "(139, 281.5603)\n",
      "(140, 280.35306)\n",
      "(141, 279.16147)\n",
      "(142, 277.9853)\n",
      "(143, 276.8231)\n",
      "(144, 275.67416)\n",
      "(145, 274.5353)\n",
      "(146, 273.40564)\n",
      "(147, 272.28314)\n",
      "(148, 271.165)\n",
      "(149, 270.0478)\n",
      "(150, 268.92624)\n",
      "(151, 267.79297)\n",
      "(152, 266.636)\n",
      "(153, 265.44287)\n",
      "(154, 264.19418)\n",
      "(155, 262.87277)\n",
      "(156, 261.46344)\n",
      "(157, 259.96088)\n",
      "(158, 258.37027)\n",
      "(159, 256.70496)\n",
      "(160, 254.98112)\n",
      "(161, 253.21422)\n",
      "(162, 251.42165)\n",
      "(163, 249.61998)\n",
      "(164, 247.83093)\n",
      "(165, 246.08008)\n",
      "(166, 244.40599)\n",
      "(167, 242.8753)\n",
      "(168, 241.59645)\n",
      "(169, 240.68153)\n",
      "(170, 240.11777)\n",
      "(171, 239.71701)\n",
      "(172, 239.24846)\n",
      "(173, 238.58318)\n",
      "(174, 237.7047)\n",
      "(175, 236.66345)\n",
      "(176, 235.54132)\n",
      "(177, 234.42159)\n",
      "(178, 233.35703)\n",
      "(179, 232.36435)\n",
      "(180, 231.44836)\n",
      "(181, 230.61209)\n",
      "(182, 229.85487)\n",
      "(183, 229.15994)\n",
      "(184, 228.49211)\n",
      "(185, 227.80745)\n",
      "(186, 227.0717)\n",
      "(187, 226.27747)\n",
      "(188, 225.44154)\n",
      "(189, 224.59677)\n",
      "(190, 223.77538)\n",
      "(191, 222.99605)\n",
      "(192, 222.26254)\n",
      "(193, 221.56752)\n",
      "(194, 220.89891)\n",
      "(195, 220.24385)\n",
      "(196, 219.59091)\n",
      "(197, 218.93141)\n",
      "(198, 218.26009)\n",
      "(199, 217.578)\n"
     ]
    }
   ],
   "source": [
    "out=np.zeros(shape=(A.shape[0],7))\n",
    "out=np.zeros(shape=(A.shape[0],32))\n",
    "lo = 0\n",
    "with tf.Session() as sess:\n",
    "    sess.run(tf.global_variables_initializer())\n",
    "    for i in range(200):\n",
    "        emb=sess.run([loss,Z,z1])\n",
    "        out=emb[1]\n",
    "        out2=emb[2]\n",
    "        lo = emb[0]\n",
    "        sess.run([opt])\n",
    "        print(i,sess.run(loss))"
   ]
  },
  {
   "cell_type": "code",
   "execution_count": null,
   "metadata": {},
   "outputs": [
    {
     "name": "stdout",
     "output_type": "stream",
     "text": [
      "Embedding...\n"
     ]
    }
   ],
   "source": [
    "import matplotlib.pyplot as plt\n",
    "from sklearn.manifold import TSNE\n",
    "import pandas as pd\n",
    "import numpy as np\n",
    "import matplotlib.cm as cm\n",
    "\n",
    "X = out2\n",
    "\n",
    "print(\"Embedding...\")\n",
    "X_embedded = TSNE(n_components=2).fit_transform(X)\n",
    "print(\"Done!\")\n",
    "\n",
    "colors = cm.rainbow(np.linspace(0, 1, 10))\n",
    "\n",
    "node_data = pd.read_table('./data/cora/cora.content', header=None)\n",
    "ids=node_data[1434].astype(\"category\")\n",
    "\n",
    "from collections import defaultdict\n",
    "from itertools import count\n",
    "from functools import partial\n",
    "print(\"Plotting...\")\n",
    "# Plotting dataset\n",
    "label_to_number = defaultdict(partial(next, count(1)))\n",
    "\n",
    "import matplotlib.pyplot as plt\n",
    "plt.scatter(X_embedded[:,0],X_embedded[:,1],color=colors[[label_to_number[label] for label in ids]],s=2)\n",
    "plt.savefig(\"GCN_hidden\")\n",
    "plt.show()\n"
   ]
  },
  {
   "cell_type": "code",
   "execution_count": 85,
   "metadata": {},
   "outputs": [
    {
     "name": "stdout",
     "output_type": "stream",
     "text": [
      "(array([5.4477439e-08, 6.0824561e-11, 3.1893135e-03, 9.9681026e-01,\n",
      "       3.6469464e-07, 7.1694589e-10, 7.9001050e-10], dtype=float32), array([1, 0, 0, 0, 0, 0, 0], dtype=int32))\n"
     ]
    }
   ],
   "source": [
    "i=40\n",
    "print ( out[i],labels[i])"
   ]
  },
  {
   "cell_type": "code",
   "execution_count": 19,
   "metadata": {},
   "outputs": [
    {
     "name": "stdout",
     "output_type": "stream",
     "text": [
      "29\n"
     ]
    }
   ],
   "source": [
    "a=0\n",
    "for i in range (2708):\n",
    "    a1=np.argmax(labels[i])\n",
    "    a2=np.argmax(out[i])\n",
    "    if(a1!=a2):\n",
    "        a=a+1\n",
    "print a "
   ]
  },
  {
   "cell_type": "code",
   "execution_count": null,
   "metadata": {},
   "outputs": [],
   "source": []
  },
  {
   "cell_type": "code",
   "execution_count": null,
   "metadata": {},
   "outputs": [],
   "source": []
  }
 ],
 "metadata": {
  "kernelspec": {
   "display_name": "Python 2",
   "language": "python",
   "name": "python2"
  },
  "language_info": {
   "codemirror_mode": {
    "name": "ipython",
    "version": 2
   },
   "file_extension": ".py",
   "mimetype": "text/x-python",
   "name": "python",
   "nbconvert_exporter": "python",
   "pygments_lexer": "ipython2",
   "version": "2.7.12"
  }
 },
 "nbformat": 4,
 "nbformat_minor": 2
}
